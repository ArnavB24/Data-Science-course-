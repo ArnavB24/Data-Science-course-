{
 "cells": [
  {
   "cell_type": "markdown",
   "id": "6e2c35ec-45d7-4281-b207-9938d7fa1758",
   "metadata": {
    "tags": []
   },
   "source": [
    "# Data Science Tools and Ecosystem \n"
   ]
  },
  {
   "cell_type": "markdown",
   "id": "7b8ca372-88fd-4f03-b4ee-878414373d57",
   "metadata": {},
   "source": [
    "In this notebook, Data Science Tools and Ecosystem are summarized.\n"
   ]
  },
  {
   "cell_type": "markdown",
   "id": "12503344-2da9-47c9-a9a0-01b4a0acc5b9",
   "metadata": {},
   "source": [
    "**Objectives**\n",
    "* List popular languages used in Data Science\n",
    "* List popular libraries used in Data Science\n",
    "* List open source tools used in Data Science \n",
    "* Perform some basic arithmetic operations "
   ]
  },
  {
   "cell_type": "markdown",
   "id": "69931928-ce97-4cdd-906d-f2a3cab74719",
   "metadata": {},
   "source": [
    "Some of the popular languages that Data Scientists use are:\n",
    "\n",
    "1. Python\n",
    "\n",
    "2. R\n",
    "\n",
    "3. JavaScript\n",
    "\n",
    "4. C++\n",
    "\n",
    "5. Julia\n"
   ]
  },
  {
   "cell_type": "markdown",
   "id": "9751b2ac-7022-48d3-8c14-3f151c3b4831",
   "metadata": {},
   "source": [
    "Some of the commonly used libraries used by Data Scientists include:\n",
    "\n",
    "1. Pandas\n",
    "\n",
    "2. NumPy\n",
    "\n",
    "3. SciPy\n",
    "\n",
    "4. TensorFlow\n",
    "\n",
    "5. Pytorch\n"
   ]
  },
  {
   "cell_type": "markdown",
   "id": "e39a09e1-317d-47c2-a107-7dc596b37086",
   "metadata": {},
   "source": [
    "|Data Science Tools|\n",
    "|------------------|\n",
    "|Apache Spark|\n",
    "|RStudio|\n",
    "|Jupyter-Labs|\n"
   ]
  },
  {
   "cell_type": "markdown",
   "id": "0bd8aae4-e3b0-4a91-85c6-51b30c9f8b70",
   "metadata": {
    "tags": []
   },
   "source": [
    "### Below are a few examples of evaluating arithmetic expressions in Python.\n"
   ]
  },
  {
   "cell_type": "code",
   "execution_count": 2,
   "id": "0846b799-01d3-4059-97cd-9faef15a1123",
   "metadata": {
    "tags": []
   },
   "outputs": [
    {
     "data": {
      "text/plain": [
       "17"
      ]
     },
     "execution_count": 2,
     "metadata": {},
     "output_type": "execute_result"
    }
   ],
   "source": [
    "#This is a simple arithmetic expression to multiply then add integers\n",
    "(3*4)+5"
   ]
  },
  {
   "cell_type": "code",
   "execution_count": 3,
   "id": "d6aac6be-180a-44a3-bbbb-1735b10354c2",
   "metadata": {
    "tags": []
   },
   "outputs": [
    {
     "data": {
      "text/plain": [
       "3.3333333333333335"
      ]
     },
     "execution_count": 3,
     "metadata": {},
     "output_type": "execute_result"
    }
   ],
   "source": [
    "# This will convert 200 minutes to hours by dividing by 60\n",
    "(200)/60"
   ]
  },
  {
   "cell_type": "markdown",
   "id": "ba8d7dfd-c402-473a-b755-9680ada38f63",
   "metadata": {},
   "source": [
    "## Author\n",
    "Arnav Bhukhmaria \n"
   ]
  },
  {
   "cell_type": "code",
   "execution_count": null,
   "id": "d0dd6f96-be46-4c89-b2e1-8f4fd75abd32",
   "metadata": {},
   "outputs": [],
   "source": []
  }
 ],
 "metadata": {
  "kernelspec": {
   "display_name": "Python",
   "language": "python",
   "name": "conda-env-python-py"
  },
  "language_info": {
   "codemirror_mode": {
    "name": "ipython",
    "version": 3
   },
   "file_extension": ".py",
   "mimetype": "text/x-python",
   "name": "python",
   "nbconvert_exporter": "python",
   "pygments_lexer": "ipython3",
   "version": "3.7.12"
  }
 },
 "nbformat": 4,
 "nbformat_minor": 5
}
